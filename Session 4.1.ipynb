{
 "cells": [
  {
   "cell_type": "code",
   "execution_count": 4,
   "metadata": {},
   "outputs": [],
   "source": [
    "import numpy as np\n",
    "import scipy.stats as sts\n",
    "import matplotlib.pyplot as plt\n",
    "from mpl_toolkits.mplot3d import Axes3D\n",
    "from matplotlib import cm # Color maps\n",
    "from scipy.optimize import minimize"
   ]
  },
  {
   "cell_type": "code",
   "execution_count": 2,
   "metadata": {},
   "outputs": [],
   "source": [
    "'''\n",
    "Function definitions for the normal-inverse-gamma distribution. The parameters\n",
    "of the distribution, namely mu (μ), either lambda (λ) or nu (ν), alpha (α),\n",
    "beta (β), are used as defined here:\n",
    "\n",
    "  https://en.wikipedia.org/wiki/Normal-inverse-gamma_distribution\n",
    "\n",
    "Note that we use the symbol nu (ν) rather than lambda (λ) for the third\n",
    "parameter. This is to match the notation used in the conjugate priors table on\n",
    "Wikipedia:\n",
    "\n",
    "  https://en.wikipedia.org/wiki/Conjugate_prior#Table_of_conjugate_distributions\n",
    "'''\n",
    "\n",
    "def norminvgamma_pdf(x, sigma2, mu, nu, alpha, beta):\n",
    "    '''\n",
    "    The probability density function of the normal-inverse-gamma distribution at\n",
    "    x (mean) and sigma2 (variance).\n",
    "    '''\n",
    "    return (\n",
    "        sts.norm.pdf(x, loc=mu, scale=np.sqrt(sigma2 / nu)) *\n",
    "        sts.invgamma.pdf(sigma2, a=alpha, scale=beta))\n",
    "\n",
    "def norminvgamma_rvs(mu, nu, alpha, beta, size=1):\n",
    "    '''\n",
    "    Generate n samples from the normal-inverse-gamma distribution. This function\n",
    "    returns a (size x 2) matrix where each row contains a sample, (x, sigma2).\n",
    "    '''\n",
    "    # Sample sigma^2 from the inverse-gamma distribution\n",
    "    sigma2 = sts.invgamma.rvs(a=alpha, scale=beta, size=size)\n",
    "    # Sample x from the normal distribution\n",
    "    x = sts.norm.rvs(loc=mu, scale=np.sqrt(sigma2 / nu), size=size)\n",
    "    return np.vstack((x, sigma2)).transpose()"
   ]
  },
  {
   "cell_type": "code",
   "execution_count": 5,
   "metadata": {},
   "outputs": [],
   "source": [
    "mu_0 = 0        # The prior mean is centered around 0.\n",
    "nu_0 = 0.054    # The smaller ν₀ is, the more uncertain we are about the prior mean.\n",
    "alpha_0 = 1.12  # α₀ and β₀ control the marginal prior over the variance.\n",
    "beta_0 = 0.4\n",
    "x_array = np.linspace(-20,20,100)\n",
    "samples = norminvgamma_rvs(mu_0, nu_0, alpha_0, beta_0, size=10000)"
   ]
  },
  {
   "cell_type": "markdown",
   "metadata": {},
   "source": [
    "## Method 1: "
   ]
  },
  {
   "cell_type": "code",
   "execution_count": 26,
   "metadata": {},
   "outputs": [],
   "source": [
    "def objective_function_1(x):\n",
    "    mu_0, nu_0, alpha_0, beta_0 = x\n",
    "    size = 10000\n",
    "    samples = norminvgamma_rvs(mu_0, nu_0, alpha_0, beta_0, size=size)\n",
    "    mean_samples = np.array([x[0] for x in samples])\n",
    "    variance_samples = np.array([x[1] for x in samples])\n",
    "    mean_constraints = sts.norm.rvs(loc=2.3, scale=0.5, size=size)\n",
    "    variance_constraints = sts.norm.rvs(loc=2.75, scale=1, size=size)\n",
    "    return np.log(np.sum((mean_samples-mean_constraints)**2) + np.sum((variance_samples-variance_constraints)**2))\n",
    "\n",
    "initial_parameters = np.array([0,0.5,1,0.5])\n",
    "result = minimize(objective_function_1, initial_parameters)"
   ]
  },
  {
   "cell_type": "code",
   "execution_count": 27,
   "metadata": {},
   "outputs": [
    {
     "name": "stdout",
     "output_type": "stream",
     "text": [
      "mu_0 =  2.552638946836907e-06\n",
      "nu_0 =  0.49999704984621884\n",
      "alpha_0 =  0.9999915505190491\n",
      "beta_0 =  0.5000102583571149\n"
     ]
    }
   ],
   "source": [
    "print('mu_0 = ', result.x[0])\n",
    "print('nu_0 = ', result.x[1])\n",
    "print('alpha_0 = ', result.x[2])\n",
    "print('beta_0 = ', result.x[3])"
   ]
  },
  {
   "cell_type": "code",
   "execution_count": 29,
   "metadata": {},
   "outputs": [],
   "source": [
    "def objective_function_2(x):\n",
    "    mu_0, nu_0, alpha_0, beta_0 = x\n",
    "    size = 10000\n",
    "    samples = norminvgamma_rvs(mu_0, nu_0, alpha_0, beta_0, size=size)\n",
    "    mean_samples = np.array([x[0] for x in samples])\n",
    "    variance_samples = np.array([x[1] for x in samples])\n",
    "    mean_constraints = sts.norm.rvs(loc=2.3, scale=0.5, size=size)\n",
    "    variance_constraints = sts.norm.rvs(loc=2.75, scale=1, size=size)\n",
    "    return np.log((np.mean(mean_samples)-2.3)**2 + (np.std(mean_samples)-0.5)**2 + (np.mean(variance_samples)-2.75)**2 + (np.std(variance_samples)-1)**2)\n",
    "\n",
    "initial_parameters = np.array([0,0.5,1,0.5])\n",
    "result = minimize(objective_function_2, initial_parameters)"
   ]
  },
  {
   "cell_type": "code",
   "execution_count": 30,
   "metadata": {},
   "outputs": [
    {
     "name": "stdout",
     "output_type": "stream",
     "text": [
      "mu_0 =  4.572657174690074e-05\n",
      "nu_0 =  0.5000261099501492\n",
      "alpha_0 =  1.0000048261695238\n",
      "beta_0 =  0.5000368768900448\n"
     ]
    }
   ],
   "source": [
    "print('mu_0 = ', result.x[0])\n",
    "print('nu_0 = ', result.x[1])\n",
    "print('alpha_0 = ', result.x[2])\n",
    "print('beta_0 = ', result.x[3])"
   ]
  },
  {
   "cell_type": "markdown",
   "metadata": {},
   "source": [
    "## Method 2:"
   ]
  },
  {
   "cell_type": "markdown",
   "metadata": {},
   "source": [
    "https://drive.google.com/file/d/1e1Sbyjo2CrgiJwo0-EPN3YBmikosYCK2/view"
   ]
  },
  {
   "cell_type": "code",
   "execution_count": null,
   "metadata": {},
   "outputs": [],
   "source": []
  }
 ],
 "metadata": {
  "kernelspec": {
   "display_name": "Python 3",
   "language": "python",
   "name": "python3"
  },
  "language_info": {
   "codemirror_mode": {
    "name": "ipython",
    "version": 3
   },
   "file_extension": ".py",
   "mimetype": "text/x-python",
   "name": "python",
   "nbconvert_exporter": "python",
   "pygments_lexer": "ipython3",
   "version": "3.7.4"
  }
 },
 "nbformat": 4,
 "nbformat_minor": 2
}
